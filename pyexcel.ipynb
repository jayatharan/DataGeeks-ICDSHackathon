{
 "cells": [
  {
   "cell_type": "code",
   "execution_count": 1,
   "id": "239c431f",
   "metadata": {
    "_cell_guid": "b1076dfc-b9ad-4769-8c92-a6c4dae69d19",
    "_uuid": "8f2839f25d086af736a60e9eeb907d3b93b6e0e5",
    "execution": {
     "iopub.execute_input": "2022-12-02T18:22:51.464486Z",
     "iopub.status.busy": "2022-12-02T18:22:51.463883Z",
     "iopub.status.idle": "2022-12-02T18:22:51.475785Z",
     "shell.execute_reply": "2022-12-02T18:22:51.474487Z"
    },
    "papermill": {
     "duration": 0.021052,
     "end_time": "2022-12-02T18:22:51.479002",
     "exception": false,
     "start_time": "2022-12-02T18:22:51.457950",
     "status": "completed"
    },
    "tags": []
   },
   "outputs": [],
   "source": [
    "import numpy as np # linear algebra\n",
    "import pandas as pd # data processing, CSV file I/O (e.g. pd.read_csv)\n",
    "from IPython.display import display"
   ]
  },
  {
   "cell_type": "code",
   "execution_count": 2,
   "id": "a9fd8d63",
   "metadata": {
    "execution": {
     "iopub.execute_input": "2022-12-02T18:22:51.487662Z",
     "iopub.status.busy": "2022-12-02T18:22:51.486653Z",
     "iopub.status.idle": "2022-12-02T18:22:51.579686Z",
     "shell.execute_reply": "2022-12-02T18:22:51.578146Z"
    },
    "papermill": {
     "duration": 0.100718,
     "end_time": "2022-12-02T18:22:51.583007",
     "exception": false,
     "start_time": "2022-12-02T18:22:51.482289",
     "status": "completed"
    },
    "tags": []
   },
   "outputs": [],
   "source": [
    "# df = pd.read_excel(r'/kaggle/input/milantest/data (3).xlsx')\n",
    "df = pd.read_csv('/kaggle/input/dataset1/DataSet - Sheet2.csv')"
   ]
  },
  {
   "cell_type": "code",
   "execution_count": 3,
   "id": "33acc361",
   "metadata": {
    "execution": {
     "iopub.execute_input": "2022-12-02T18:22:51.590941Z",
     "iopub.status.busy": "2022-12-02T18:22:51.590503Z",
     "iopub.status.idle": "2022-12-02T18:22:51.623812Z",
     "shell.execute_reply": "2022-12-02T18:22:51.622746Z"
    },
    "papermill": {
     "duration": 0.040643,
     "end_time": "2022-12-02T18:22:51.626826",
     "exception": false,
     "start_time": "2022-12-02T18:22:51.586183",
     "status": "completed"
    },
    "tags": []
   },
   "outputs": [
    {
     "data": {
      "text/plain": [
       "POLICY NO                        False\n",
       "PLAN CODE                        False\n",
       "PRODUCT NAME                     False\n",
       "COVER CODE                       False\n",
       "COVER                            False\n",
       "PAR / NON PAR                    False\n",
       "STATUS                           False\n",
       "DATE OF COMMENCEMENT             False\n",
       "BIRTH DATE                       False\n",
       "AGE NEARER BIRTDAY AT ENTRY      False\n",
       "CURRENT AGE (NEARER BIRTHDAY)    False\n",
       "GENDER                           False\n",
       "NEXT PREMIUM DUE DATE            False\n",
       "LAST PREMIUM DATE                False\n",
       "TERM                             False\n",
       "PREMIUM TERM                     False\n",
       "SUM ASSURED                      False\n",
       "TOTAL DECLARED BONUS             False\n",
       "LOAN OUTSTANDING                 False\n",
       "LOAN INTEREST RATE                True\n",
       "PAYMENT MODE                     False\n",
       "BASIC/RIDER PREMIUM              False\n",
       "TOTAL PREMIUM                    False\n",
       "FUND VALUE                        True\n",
       "PAID UP                          False\n",
       "PAID UP SUM ASSURED               True\n",
       "NEW SUM ASSURED                  False\n",
       "dtype: bool"
      ]
     },
     "execution_count": 3,
     "metadata": {},
     "output_type": "execute_result"
    }
   ],
   "source": [
    "# display(df)\n",
    "# df.columns.values.tolist()\n",
    "df['NEW SUM ASSURED'] = 0.0\n",
    "df.isna().any()"
   ]
  },
  {
   "cell_type": "code",
   "execution_count": 4,
   "id": "b6cab317",
   "metadata": {
    "execution": {
     "iopub.execute_input": "2022-12-02T18:22:51.635327Z",
     "iopub.status.busy": "2022-12-02T18:22:51.634873Z",
     "iopub.status.idle": "2022-12-02T18:22:51.655335Z",
     "shell.execute_reply": "2022-12-02T18:22:51.653969Z"
    },
    "papermill": {
     "duration": 0.028077,
     "end_time": "2022-12-02T18:22:51.658168",
     "exception": false,
     "start_time": "2022-12-02T18:22:51.630091",
     "status": "completed"
    },
    "tags": []
   },
   "outputs": [
    {
     "data": {
      "text/plain": [
       "POLICY NO                           0\n",
       "PLAN CODE                           0\n",
       "PRODUCT NAME                        0\n",
       "COVER CODE                          0\n",
       "COVER                               0\n",
       "PAR / NON PAR                       0\n",
       "STATUS                              0\n",
       "DATE OF COMMENCEMENT                0\n",
       "BIRTH DATE                          0\n",
       "AGE NEARER BIRTDAY AT ENTRY         0\n",
       "CURRENT AGE (NEARER BIRTHDAY)       0\n",
       "GENDER                              0\n",
       "NEXT PREMIUM DUE DATE               0\n",
       "LAST PREMIUM DATE                   0\n",
       "TERM                                0\n",
       "PREMIUM TERM                        0\n",
       "SUM ASSURED                         0\n",
       "TOTAL DECLARED BONUS                0\n",
       "LOAN OUTSTANDING                    0\n",
       "LOAN INTEREST RATE               3591\n",
       "PAYMENT MODE                        0\n",
       "BASIC/RIDER PREMIUM                 0\n",
       "TOTAL PREMIUM                       0\n",
       "FUND VALUE                       9999\n",
       "PAID UP                             0\n",
       "PAID UP SUM ASSURED                 7\n",
       "NEW SUM ASSURED                     0\n",
       "dtype: int64"
      ]
     },
     "execution_count": 4,
     "metadata": {},
     "output_type": "execute_result"
    }
   ],
   "source": [
    "df.isnull().sum()"
   ]
  },
  {
   "cell_type": "code",
   "execution_count": 5,
   "id": "811414ac",
   "metadata": {
    "execution": {
     "iopub.execute_input": "2022-12-02T18:22:51.667060Z",
     "iopub.status.busy": "2022-12-02T18:22:51.666519Z",
     "iopub.status.idle": "2022-12-02T18:22:51.684061Z",
     "shell.execute_reply": "2022-12-02T18:22:51.682704Z"
    },
    "papermill": {
     "duration": 0.025344,
     "end_time": "2022-12-02T18:22:51.686731",
     "exception": false,
     "start_time": "2022-12-02T18:22:51.661387",
     "status": "completed"
    },
    "tags": []
   },
   "outputs": [
    {
     "data": {
      "text/plain": [
       "POLICY NO                          int64\n",
       "PLAN CODE                          int64\n",
       "PRODUCT NAME                      object\n",
       "COVER CODE                        object\n",
       "COVER                             object\n",
       "PAR / NON PAR                     object\n",
       "STATUS                            object\n",
       "DATE OF COMMENCEMENT              object\n",
       "BIRTH DATE                        object\n",
       "AGE NEARER BIRTDAY AT ENTRY        int64\n",
       "CURRENT AGE (NEARER BIRTHDAY)      int64\n",
       "GENDER                            object\n",
       "NEXT PREMIUM DUE DATE             object\n",
       "LAST PREMIUM DATE                 object\n",
       "TERM                               int64\n",
       "PREMIUM TERM                       int64\n",
       "SUM ASSURED                       object\n",
       "TOTAL DECLARED BONUS              object\n",
       "LOAN OUTSTANDING                   int64\n",
       "LOAN INTEREST RATE               float64\n",
       "PAYMENT MODE                      object\n",
       "BASIC/RIDER PREMIUM               object\n",
       "TOTAL PREMIUM                     object\n",
       "FUND VALUE                       float64\n",
       "PAID UP                           object\n",
       "PAID UP SUM ASSURED               object\n",
       "NEW SUM ASSURED                  float32\n",
       "dtype: object"
      ]
     },
     "execution_count": 5,
     "metadata": {},
     "output_type": "execute_result"
    }
   ],
   "source": [
    "idlist = df[(df['COVER CODE'] == 'WOPSI')]['POLICY NO'].tolist()\n",
    "# idlist\n",
    "\n",
    "df[\"NEW SUM ASSURED\"] = pd.to_numeric(df[\"NEW SUM ASSURED\"], downcast=\"float\")\n",
    "newDf = df\n",
    "newDf.dtypes"
   ]
  },
  {
   "cell_type": "code",
   "execution_count": 6,
   "id": "fe676dd8",
   "metadata": {
    "execution": {
     "iopub.execute_input": "2022-12-02T18:22:51.697062Z",
     "iopub.status.busy": "2022-12-02T18:22:51.696008Z",
     "iopub.status.idle": "2022-12-02T18:22:52.638006Z",
     "shell.execute_reply": "2022-12-02T18:22:52.636479Z"
    },
    "papermill": {
     "duration": 0.950704,
     "end_time": "2022-12-02T18:22:52.641716",
     "exception": false,
     "start_time": "2022-12-02T18:22:51.691012",
     "status": "completed"
    },
    "tags": []
   },
   "outputs": [],
   "source": [
    "for index, row in newDf.iterrows():\n",
    "    SUM_ASSURED = 0;\n",
    "    if(row['POLICY NO'] in idlist):\n",
    "        if(row['COVER CODE'] == 'BASIC'):\n",
    "            SUM_ASSURED += float(row['BASIC/RIDER PREMIUM'].replace(',',''))\n",
    "            colValue = newDf.loc[newDf['COVER CODE'] == 'WOPSI', 'NEW SUM ASSURED']\n",
    "            newDf.loc[(newDf['COVER CODE'] == 'WOPSI') & (newDf['POLICY NO'] == row['POLICY NO']), 'NEW SUM ASSURED'] = colValue + SUM_ASSURED\n",
    "        if (row['COVER CODE'] == 'ADDB'):\n",
    "            SUM_ASSURED += float(row['BASIC/RIDER PREMIUM'].replace(',',''))\n",
    "            colValue = newDf.loc[(newDf['COVER CODE'] == 'WOPSI') & (newDf['POLICY NO'] == row['POLICY NO']), 'NEW SUM ASSURED']\n",
    "            newDf.loc[(newDf['COVER CODE'] == 'WOPSI') & (newDf['POLICY NO'] == row['POLICY NO']), 'NEW SUM ASSURED'] = colValue + SUM_ASSURED"
   ]
  },
  {
   "cell_type": "code",
   "execution_count": null,
   "id": "c2855f20",
   "metadata": {
    "papermill": {
     "duration": 0.003035,
     "end_time": "2022-12-02T18:22:52.648515",
     "exception": false,
     "start_time": "2022-12-02T18:22:52.645480",
     "status": "completed"
    },
    "tags": []
   },
   "outputs": [],
   "source": []
  }
 ],
 "metadata": {
  "kernelspec": {
   "display_name": "Python 3",
   "language": "python",
   "name": "python3"
  },
  "language_info": {
   "codemirror_mode": {
    "name": "ipython",
    "version": 3
   },
   "file_extension": ".py",
   "mimetype": "text/x-python",
   "name": "python",
   "nbconvert_exporter": "python",
   "pygments_lexer": "ipython3",
   "version": "3.7.12"
  },
  "papermill": {
   "default_parameters": {},
   "duration": 11.51714,
   "end_time": "2022-12-02T18:22:53.376945",
   "environment_variables": {},
   "exception": null,
   "input_path": "__notebook__.ipynb",
   "output_path": "__notebook__.ipynb",
   "parameters": {},
   "start_time": "2022-12-02T18:22:41.859805",
   "version": "2.3.4"
  }
 },
 "nbformat": 4,
 "nbformat_minor": 5
}
