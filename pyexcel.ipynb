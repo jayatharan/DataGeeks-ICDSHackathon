{
 "cells": [
  {
   "cell_type": "code",
   "execution_count": 1,
   "id": "5497125e",
   "metadata": {
    "_cell_guid": "b1076dfc-b9ad-4769-8c92-a6c4dae69d19",
    "_uuid": "8f2839f25d086af736a60e9eeb907d3b93b6e0e5",
    "execution": {
     "iopub.execute_input": "2022-12-02T18:38:59.539815Z",
     "iopub.status.busy": "2022-12-02T18:38:59.538800Z",
     "iopub.status.idle": "2022-12-02T18:38:59.552393Z",
     "shell.execute_reply": "2022-12-02T18:38:59.551221Z"
    },
    "papermill": {
     "duration": 0.025407,
     "end_time": "2022-12-02T18:38:59.555378",
     "exception": false,
     "start_time": "2022-12-02T18:38:59.529971",
     "status": "completed"
    },
    "tags": []
   },
   "outputs": [],
   "source": [
    "import numpy as np # linear algebra\n",
    "import pandas as pd # data processing, CSV file I/O (e.g. pd.read_csv)\n",
    "from IPython.display import display"
   ]
  },
  {
   "cell_type": "code",
   "execution_count": 2,
   "id": "106f8e00",
   "metadata": {
    "execution": {
     "iopub.execute_input": "2022-12-02T18:38:59.564485Z",
     "iopub.status.busy": "2022-12-02T18:38:59.563766Z",
     "iopub.status.idle": "2022-12-02T18:38:59.657290Z",
     "shell.execute_reply": "2022-12-02T18:38:59.656062Z"
    },
    "papermill": {
     "duration": 0.101263,
     "end_time": "2022-12-02T18:38:59.660144",
     "exception": false,
     "start_time": "2022-12-02T18:38:59.558881",
     "status": "completed"
    },
    "tags": []
   },
   "outputs": [],
   "source": [
    "# df = pd.read_excel(r'/kaggle/input/milantest/data (3).xlsx')\n",
    "df = pd.read_csv('/kaggle/input/dataset1/DataSet - Sheet2.csv')"
   ]
  },
  {
   "cell_type": "code",
   "execution_count": 3,
   "id": "33a25c61",
   "metadata": {
    "execution": {
     "iopub.execute_input": "2022-12-02T18:38:59.668498Z",
     "iopub.status.busy": "2022-12-02T18:38:59.668098Z",
     "iopub.status.idle": "2022-12-02T18:38:59.698406Z",
     "shell.execute_reply": "2022-12-02T18:38:59.697240Z"
    },
    "papermill": {
     "duration": 0.037894,
     "end_time": "2022-12-02T18:38:59.701314",
     "exception": false,
     "start_time": "2022-12-02T18:38:59.663420",
     "status": "completed"
    },
    "tags": []
   },
   "outputs": [
    {
     "data": {
      "text/plain": [
       "POLICY NO                        False\n",
       "PLAN CODE                        False\n",
       "PRODUCT NAME                     False\n",
       "COVER CODE                       False\n",
       "COVER                            False\n",
       "PAR / NON PAR                    False\n",
       "STATUS                           False\n",
       "DATE OF COMMENCEMENT             False\n",
       "BIRTH DATE                       False\n",
       "AGE NEARER BIRTDAY AT ENTRY      False\n",
       "CURRENT AGE (NEARER BIRTHDAY)    False\n",
       "GENDER                           False\n",
       "NEXT PREMIUM DUE DATE            False\n",
       "LAST PREMIUM DATE                False\n",
       "TERM                             False\n",
       "PREMIUM TERM                     False\n",
       "SUM ASSURED                      False\n",
       "TOTAL DECLARED BONUS             False\n",
       "LOAN OUTSTANDING                 False\n",
       "LOAN INTEREST RATE                True\n",
       "PAYMENT MODE                     False\n",
       "BASIC/RIDER PREMIUM              False\n",
       "TOTAL PREMIUM                    False\n",
       "FUND VALUE                        True\n",
       "PAID UP                          False\n",
       "PAID UP SUM ASSURED               True\n",
       "NEW SUM ASSURED                  False\n",
       "dtype: bool"
      ]
     },
     "execution_count": 3,
     "metadata": {},
     "output_type": "execute_result"
    }
   ],
   "source": [
    "# display(df)\n",
    "# df.columns.values.tolist()\n",
    "df['NEW SUM ASSURED'] = 0.0\n",
    "df.isna().any()"
   ]
  },
  {
   "cell_type": "code",
   "execution_count": 4,
   "id": "613cc4ce",
   "metadata": {
    "execution": {
     "iopub.execute_input": "2022-12-02T18:38:59.710851Z",
     "iopub.status.busy": "2022-12-02T18:38:59.709480Z",
     "iopub.status.idle": "2022-12-02T18:38:59.730173Z",
     "shell.execute_reply": "2022-12-02T18:38:59.728588Z"
    },
    "papermill": {
     "duration": 0.028539,
     "end_time": "2022-12-02T18:38:59.733379",
     "exception": false,
     "start_time": "2022-12-02T18:38:59.704840",
     "status": "completed"
    },
    "tags": []
   },
   "outputs": [
    {
     "data": {
      "text/plain": [
       "POLICY NO                           0\n",
       "PLAN CODE                           0\n",
       "PRODUCT NAME                        0\n",
       "COVER CODE                          0\n",
       "COVER                               0\n",
       "PAR / NON PAR                       0\n",
       "STATUS                              0\n",
       "DATE OF COMMENCEMENT                0\n",
       "BIRTH DATE                          0\n",
       "AGE NEARER BIRTDAY AT ENTRY         0\n",
       "CURRENT AGE (NEARER BIRTHDAY)       0\n",
       "GENDER                              0\n",
       "NEXT PREMIUM DUE DATE               0\n",
       "LAST PREMIUM DATE                   0\n",
       "TERM                                0\n",
       "PREMIUM TERM                        0\n",
       "SUM ASSURED                         0\n",
       "TOTAL DECLARED BONUS                0\n",
       "LOAN OUTSTANDING                    0\n",
       "LOAN INTEREST RATE               3591\n",
       "PAYMENT MODE                        0\n",
       "BASIC/RIDER PREMIUM                 0\n",
       "TOTAL PREMIUM                       0\n",
       "FUND VALUE                       9999\n",
       "PAID UP                             0\n",
       "PAID UP SUM ASSURED                 7\n",
       "NEW SUM ASSURED                     0\n",
       "dtype: int64"
      ]
     },
     "execution_count": 4,
     "metadata": {},
     "output_type": "execute_result"
    }
   ],
   "source": [
    "df.isnull().sum()"
   ]
  },
  {
   "cell_type": "code",
   "execution_count": 5,
   "id": "cf0c4b0d",
   "metadata": {
    "execution": {
     "iopub.execute_input": "2022-12-02T18:38:59.743569Z",
     "iopub.status.busy": "2022-12-02T18:38:59.742356Z",
     "iopub.status.idle": "2022-12-02T18:38:59.759246Z",
     "shell.execute_reply": "2022-12-02T18:38:59.758052Z"
    },
    "papermill": {
     "duration": 0.02471,
     "end_time": "2022-12-02T18:38:59.761720",
     "exception": false,
     "start_time": "2022-12-02T18:38:59.737010",
     "status": "completed"
    },
    "tags": []
   },
   "outputs": [
    {
     "data": {
      "text/plain": [
       "POLICY NO                          int64\n",
       "PLAN CODE                          int64\n",
       "PRODUCT NAME                      object\n",
       "COVER CODE                        object\n",
       "COVER                             object\n",
       "PAR / NON PAR                     object\n",
       "STATUS                            object\n",
       "DATE OF COMMENCEMENT              object\n",
       "BIRTH DATE                        object\n",
       "AGE NEARER BIRTDAY AT ENTRY        int64\n",
       "CURRENT AGE (NEARER BIRTHDAY)      int64\n",
       "GENDER                            object\n",
       "NEXT PREMIUM DUE DATE             object\n",
       "LAST PREMIUM DATE                 object\n",
       "TERM                               int64\n",
       "PREMIUM TERM                       int64\n",
       "SUM ASSURED                       object\n",
       "TOTAL DECLARED BONUS              object\n",
       "LOAN OUTSTANDING                   int64\n",
       "LOAN INTEREST RATE               float64\n",
       "PAYMENT MODE                      object\n",
       "BASIC/RIDER PREMIUM               object\n",
       "TOTAL PREMIUM                     object\n",
       "FUND VALUE                       float64\n",
       "PAID UP                           object\n",
       "PAID UP SUM ASSURED               object\n",
       "NEW SUM ASSURED                  float32\n",
       "dtype: object"
      ]
     },
     "execution_count": 5,
     "metadata": {},
     "output_type": "execute_result"
    }
   ],
   "source": [
    "idlist = df[(df['COVER CODE'] == 'WOPSI')]['POLICY NO'].tolist()\n",
    "# idlist\n",
    "\n",
    "df[\"NEW SUM ASSURED\"] = pd.to_numeric(df[\"NEW SUM ASSURED\"], downcast=\"float\")\n",
    "newDf = df\n",
    "newDf.dtypes"
   ]
  },
  {
   "cell_type": "code",
   "execution_count": 6,
   "id": "135df295",
   "metadata": {
    "execution": {
     "iopub.execute_input": "2022-12-02T18:38:59.772639Z",
     "iopub.status.busy": "2022-12-02T18:38:59.770444Z",
     "iopub.status.idle": "2022-12-02T18:39:00.712354Z",
     "shell.execute_reply": "2022-12-02T18:39:00.711174Z"
    },
    "papermill": {
     "duration": 0.949894,
     "end_time": "2022-12-02T18:39:00.715288",
     "exception": false,
     "start_time": "2022-12-02T18:38:59.765394",
     "status": "completed"
    },
    "tags": []
   },
   "outputs": [],
   "source": [
    "for index, row in newDf.iterrows():\n",
    "    SUM_ASSURED = 0;\n",
    "    if(row['POLICY NO'] in idlist):\n",
    "        if(row['COVER CODE'] == 'BASIC'):\n",
    "            SUM_ASSURED += float(row['BASIC/RIDER PREMIUM'].replace(',',''))\n",
    "            colValue = newDf.loc[newDf['COVER CODE'] == 'WOPSI', 'NEW SUM ASSURED']\n",
    "            newDf.loc[(newDf['COVER CODE'] == 'WOPSI') & (newDf['POLICY NO'] == row['POLICY NO']), 'NEW SUM ASSURED'] = colValue + SUM_ASSURED\n",
    "        if (row['COVER CODE'] == 'ADDB'):\n",
    "            SUM_ASSURED += float(row['BASIC/RIDER PREMIUM'].replace(',',''))\n",
    "            colValue = newDf.loc[(newDf['COVER CODE'] == 'WOPSI') & (newDf['POLICY NO'] == row['POLICY NO']), 'NEW SUM ASSURED']\n",
    "            newDf.loc[(newDf['COVER CODE'] == 'WOPSI') & (newDf['POLICY NO'] == row['POLICY NO']), 'NEW SUM ASSURED'] = colValue + SUM_ASSURED"
   ]
  },
  {
   "cell_type": "code",
   "execution_count": 7,
   "id": "4ddc69ca",
   "metadata": {
    "execution": {
     "iopub.execute_input": "2022-12-02T18:39:00.724942Z",
     "iopub.status.busy": "2022-12-02T18:39:00.724527Z",
     "iopub.status.idle": "2022-12-02T18:39:00.735549Z",
     "shell.execute_reply": "2022-12-02T18:39:00.734064Z"
    },
    "papermill": {
     "duration": 0.01885,
     "end_time": "2022-12-02T18:39:00.738272",
     "exception": false,
     "start_time": "2022-12-02T18:39:00.719422",
     "status": "completed"
    },
    "tags": []
   },
   "outputs": [
    {
     "data": {
      "text/plain": [
       "54      0.000000\n",
       "55      0.000000\n",
       "56      0.000000\n",
       "57      0.000000\n",
       "58      0.000000\n",
       "59      0.000000\n",
       "60      0.000000\n",
       "61      0.000000\n",
       "62      0.000000\n",
       "63      0.000000\n",
       "64      0.000000\n",
       "65      0.000000\n",
       "66    709.960022\n",
       "67      0.000000\n",
       "Name: NEW SUM ASSURED, dtype: float32"
      ]
     },
     "execution_count": 7,
     "metadata": {},
     "output_type": "execute_result"
    }
   ],
   "source": [
    "newDf[(newDf['POLICY NO'] == 60577)]['NEW SUM ASSURED']"
   ]
  },
  {
   "cell_type": "code",
   "execution_count": 8,
   "id": "ce910be0",
   "metadata": {
    "execution": {
     "iopub.execute_input": "2022-12-02T18:39:00.748569Z",
     "iopub.status.busy": "2022-12-02T18:39:00.748150Z",
     "iopub.status.idle": "2022-12-02T18:39:01.394507Z",
     "shell.execute_reply": "2022-12-02T18:39:01.392874Z"
    },
    "papermill": {
     "duration": 0.654691,
     "end_time": "2022-12-02T18:39:01.397268",
     "exception": false,
     "start_time": "2022-12-02T18:39:00.742577",
     "status": "completed"
    },
    "tags": []
   },
   "outputs": [],
   "source": [
    "for index, row in newDf.iterrows():\n",
    "    if(row['PAR / NON PAR'] != 'PAR'):\n",
    "        row[\"TOTAL DECLARED BONUS\"] = np.nan"
   ]
  },
  {
   "cell_type": "code",
   "execution_count": 9,
   "id": "2a4d0831",
   "metadata": {
    "execution": {
     "iopub.execute_input": "2022-12-02T18:39:01.407094Z",
     "iopub.status.busy": "2022-12-02T18:39:01.406634Z",
     "iopub.status.idle": "2022-12-02T18:39:01.416783Z",
     "shell.execute_reply": "2022-12-02T18:39:01.415381Z"
    },
    "papermill": {
     "duration": 0.017887,
     "end_time": "2022-12-02T18:39:01.419289",
     "exception": false,
     "start_time": "2022-12-02T18:39:01.401402",
     "status": "completed"
    },
    "tags": []
   },
   "outputs": [
    {
     "data": {
      "text/plain": [
       "0"
      ]
     },
     "execution_count": 9,
     "metadata": {},
     "output_type": "execute_result"
    }
   ],
   "source": [
    "newDf['TOTAL DECLARED BONUS'].isnull().sum()"
   ]
  }
 ],
 "metadata": {
  "kernelspec": {
   "display_name": "Python 3",
   "language": "python",
   "name": "python3"
  },
  "language_info": {
   "codemirror_mode": {
    "name": "ipython",
    "version": 3
   },
   "file_extension": ".py",
   "mimetype": "text/x-python",
   "name": "python",
   "nbconvert_exporter": "python",
   "pygments_lexer": "ipython3",
   "version": "3.7.12"
  },
  "papermill": {
   "default_parameters": {},
   "duration": 11.839202,
   "end_time": "2022-12-02T18:39:02.146384",
   "environment_variables": {},
   "exception": null,
   "input_path": "__notebook__.ipynb",
   "output_path": "__notebook__.ipynb",
   "parameters": {},
   "start_time": "2022-12-02T18:38:50.307182",
   "version": "2.3.4"
  }
 },
 "nbformat": 4,
 "nbformat_minor": 5
}
